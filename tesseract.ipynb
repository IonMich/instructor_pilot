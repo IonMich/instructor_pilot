{
 "cells": [
  {
   "cell_type": "code",
   "execution_count": null,
   "metadata": {},
   "outputs": [],
   "source": [
    "import pytesseract\n",
    "from pytesseract import Output\n",
    "import cv2\n",
    "import matplotlib.pyplot as plt\n",
    "import numpy as np\n",
    "import pandas as pd\n",
    "# show at least 100 rows\n",
    "pd.set_option('display.max_rows', 100)\n",
    "your_path_to_png = 'media/<...>'\n",
    "img = cv2.imread(your_path_to_png)\n",
    "# tesseract to pandas\n",
    "d_tess = pytesseract.image_to_data(\n",
    "    img,\n",
    "    output_type=Output.DATAFRAME,\n",
    "    lang='eng',\n",
    "    config='dpi=150'\n",
    ")"
   ]
  },
  {
   "cell_type": "code",
   "execution_count": null,
   "metadata": {},
   "outputs": [],
   "source": [
    "d = d_tess.copy()\n",
    "# change encoding to utf-8\n",
    "d.text = d.text.str.encode('utf-8').str.decode('utf-8')\n",
    "# filter out the rows with no text\n",
    "d = d[(d.conf != -1) & (d.text != ' ')]\n",
    "# get the bounding box of the text\n",
    "d = d[['level', 'left', 'top', 'width', 'height', 'conf', 'text']]\n",
    "# keep only the text with confidence\n",
    "d = d[d.conf > 70]"
   ]
  },
  {
   "cell_type": "code",
   "execution_count": null,
   "metadata": {},
   "outputs": [],
   "source": [
    "img_anno = img.copy()\n",
    "for i, row in d.iterrows():\n",
    "    x = row.left\n",
    "    y = row.top\n",
    "    w = row.width\n",
    "    h = row.height\n",
    "    alpha = row.conf\n",
    "    # draw the bounding box\n",
    "    green = (0, 255, 0)\n",
    "    green_rectange = np.zeros((h, w, 3), np.uint8)\n",
    "    green_rectange[:] = green\n",
    "    img_anno[y:y+h, x:x+w] = cv2.addWeighted(img_anno[y:y+h, x:x+w], 1, green_rectange, alpha/100, 0)\n",
    "    \n",
    "\n",
    "plt.figure(figsize=(10,10))\n",
    "plt.imshow(img_anno)\n",
    "# add the text\n",
    "for i, row in d.iterrows():\n",
    "    x = row.left\n",
    "    y = row.top\n",
    "    w = row.width\n",
    "    h = row.height\n",
    "    text = row.text\n",
    "    # move the text above the bounding box\n",
    "    y = y - 10\n",
    "    plt.text(x+w/2, y+h/2, text, fontsize=5, ha='center', va='center', color='black')\n",
    "\n",
    "plt.show()"
   ]
  },
  {
   "cell_type": "markdown",
   "metadata": {},
   "source": [
    "# Multiple images"
   ]
  },
  {
   "cell_type": "code",
   "execution_count": null,
   "metadata": {},
   "outputs": [],
   "source": [
    "# glob all the images with:\n",
    "import glob\n",
    "your_path_with_glob = 'media/<...>/*-page-3.png'\n",
    "image_paths = glob.glob(your_path_with_glob)\n",
    "image_paths.sort()\n",
    "# combine all the image_paths to a string with \\n\n",
    "image_paths = '\\n'.join(image_paths)"
   ]
  },
  {
   "cell_type": "code",
   "execution_count": null,
   "metadata": {},
   "outputs": [],
   "source": [
    "# save the image_paths to a file\n",
    "# format:\n",
    "# path/to/1.png\n",
    "\n",
    "# path/to/2.png\n",
    "\n",
    "# path/to/3.tiff\n",
    "# create the file if it doesn't exist\n",
    "from pathlib import Path\n",
    "Path('image_paths.txt').touch()\n",
    "with open('image_paths.txt', 'w') as f:\n",
    "    for image_path in image_paths:\n",
    "        f.write(image_path + '\\n')"
   ]
  },
  {
   "cell_type": "code",
   "execution_count": null,
   "metadata": {},
   "outputs": [],
   "source": [
    "# run a subprocess to get the text from the images\n",
    "# tesseract image_paths.txt tessOutput.txt\n",
    "\n",
    "import subprocess\n",
    "\n",
    "result = subprocess.run(\n",
    "    ['tesseract', '-', '-', 'tsv'], \n",
    "    input=image_paths,\n",
    "    capture_output=True, \n",
    "    text=True, \n",
    "    encoding=\"utf8\"\n",
    ")\n",
    "result.stdout"
   ]
  }
 ],
 "metadata": {
  "kernelspec": {
   "display_name": "ta",
   "language": "python",
   "name": "python3"
  },
  "language_info": {
   "codemirror_mode": {
    "name": "ipython",
    "version": 3
   },
   "file_extension": ".py",
   "mimetype": "text/x-python",
   "name": "python",
   "nbconvert_exporter": "python",
   "pygments_lexer": "ipython3",
   "version": "3.10.13"
  }
 },
 "nbformat": 4,
 "nbformat_minor": 2
}
